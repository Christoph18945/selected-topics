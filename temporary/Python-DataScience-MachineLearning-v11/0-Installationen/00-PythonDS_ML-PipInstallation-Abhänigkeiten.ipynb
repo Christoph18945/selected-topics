{
 "cells": [
  {
   "cell_type": "markdown",
   "metadata": {},
   "source": [
    "<a href=\"https://datamics.com/de/courses/\"><img src=../DATA/bg_datamics_top.png></a>\n",
    "\n",
    "<em text-align:center>© Datamics</em>\n",
    "\n",
    "# Installations Notebook für alle Abhänigkeiten"
   ]
  },
  {
   "cell_type": "markdown",
   "metadata": {},
   "source": [
    "## Update PIP\n",
    "\n",
    "Um Sicherzugehen, dass du die neueste Version von Pip installiert hast, updaten wir in der nächsten Zeile dein Pip Modul. Dies kann einige Minuten dauern, auch wenn du die neuste Pip Version hast.  "
   ]
  },
  {
   "cell_type": "code",
   "execution_count": 1,
   "metadata": {},
   "outputs": [
    {
     "name": "stdout",
     "output_type": "stream",
     "text": [
      "Requirement already up-to-date: pip in z:\\visualstudio-lib-tools\\anaconda3_64\\envs\\migrationnlp\\lib\\site-packages (20.2.3)\n",
      "Note: you may need to restart the kernel to use updated packages.\n"
     ]
    }
   ],
   "source": [
    "# Dieser Command Update pip auf die neuste stable Version\n",
    "%pip install --upgrade pip"
   ]
  },
  {
   "cell_type": "markdown",
   "metadata": {},
   "source": [
    "### Kapitel: Python Für Data Analysis \n",
    "\n",
    "#### NumPy\n",
    "\n",
    "NumPy (oder Numpy) ist eine Lineare Algebra Library für Python.\n",
    "\n",
    "Anwendung: Mathematische Operationen\n",
    "\n",
    "Vorteile: Schnelligkeit, Weitverbreitet\n",
    "\n",
    "https://docs.scipy.org/doc/numpy/reference/"
   ]
  },
  {
   "cell_type": "code",
   "execution_count": 2,
   "metadata": {
    "scrolled": true
   },
   "outputs": [
    {
     "name": "stdout",
     "output_type": "stream",
     "text": [
      "Requirement already satisfied: numpy in z:\\visualstudio-lib-tools\\anaconda3_64\\envs\\migrationnlp\\lib\\site-packages (1.18.5)\n",
      "Note: you may need to restart the kernel to use updated packages.\n"
     ]
    }
   ],
   "source": [
    "%pip install numpy"
   ]
  },
  {
   "cell_type": "markdown",
   "metadata": {},
   "source": [
    "#### Pandas\n",
    "pandas ist eine Open-Source-Bibliothek mit BSD-Lizenz, die leistungsstarke, einfach zu bedienende Datenstrukturen und Datenanalysetools für Python bietet.\n",
    "\n",
    "https://pandas.pydata.org/"
   ]
  },
  {
   "cell_type": "code",
   "execution_count": 3,
   "metadata": {},
   "outputs": [
    {
     "name": "stdout",
     "output_type": "stream",
     "text": [
      "Requirement already satisfied: pandas in z:\\visualstudio-lib-tools\\anaconda3_64\\envs\\migrationnlp\\lib\\site-packages (1.1.3)\n",
      "Requirement already satisfied: numpy>=1.15.4 in z:\\visualstudio-lib-tools\\anaconda3_64\\envs\\migrationnlp\\lib\\site-packages (from pandas) (1.18.5)\n",
      "Requirement already satisfied: pytz>=2017.2 in z:\\visualstudio-lib-tools\\anaconda3_64\\envs\\migrationnlp\\lib\\site-packages (from pandas) (2020.1)\n",
      "Requirement already satisfied: python-dateutil>=2.7.3 in z:\\visualstudio-lib-tools\\anaconda3_64\\envs\\migrationnlp\\lib\\site-packages (from pandas) (2.8.1)\n",
      "Requirement already satisfied: six>=1.5 in z:\\visualstudio-lib-tools\\anaconda3_64\\envs\\migrationnlp\\lib\\site-packages (from python-dateutil>=2.7.3->pandas) (1.15.0)\n",
      "Note: you may need to restart the kernel to use updated packages.\n"
     ]
    }
   ],
   "source": [
    "%pip install pandas"
   ]
  },
  {
   "cell_type": "markdown",
   "metadata": {},
   "source": [
    "#### xlrd\n",
    "xlrd ist eine Bibliothek zum Lesen von Daten und Formatieren von Informationen aus Excel-Dateien, unabhängig davon, ob es sich um .xls- oder.xlsx-Dateien handelt.\n",
    "\n",
    "Wir verwenden sie, dafür um EXCEL Dateien in einen Pandas Datenframe zu parsen.\n",
    "\n",
    "https://xlrd.readthedocs.io/en/latest/"
   ]
  },
  {
   "cell_type": "code",
   "execution_count": 4,
   "metadata": {},
   "outputs": [
    {
     "name": "stdout",
     "output_type": "stream",
     "text": [
      "Collecting xlrd\n",
      "  Using cached xlrd-1.2.0-py2.py3-none-any.whl (103 kB)\n",
      "Installing collected packages: xlrd\n",
      "Successfully installed xlrd-1.2.0\n",
      "Note: you may need to restart the kernel to use updated packages.\n"
     ]
    }
   ],
   "source": [
    "%pip install xlrd"
   ]
  },
  {
   "cell_type": "markdown",
   "metadata": {},
   "source": [
    "#### openpyxl\n",
    "Eine Anforderung um EXCEL Dateien zu parsen.\n",
    "\n",
    "https://openpyxl.readthedocs.io/en/stable/"
   ]
  },
  {
   "cell_type": "code",
   "execution_count": 5,
   "metadata": {},
   "outputs": [
    {
     "name": "stdout",
     "output_type": "stream",
     "text": [
      "Collecting openpyxl\n",
      "  Downloading openpyxl-3.0.5-py2.py3-none-any.whl (242 kB)\n",
      "Collecting jdcal\n",
      "  Using cached jdcal-1.4.1-py2.py3-none-any.whl (9.5 kB)\n",
      "Processing c:\\users\\-t-\\appdata\\local\\pip\\cache\\wheels\\6e\\df\\38\\abda47b884e3e25f9f9b6430e5ce44c47670758a50c0c51759\\et_xmlfile-1.0.1-py3-none-any.whl\n",
      "Installing collected packages: jdcal, et-xmlfile, openpyxl\n",
      "Successfully installed et-xmlfile-1.0.1 jdcal-1.4.1 openpyxl-3.0.5\n",
      "Note: you may need to restart the kernel to use updated packages.\n"
     ]
    }
   ],
   "source": [
    "%pip install openpyxl"
   ]
  },
  {
   "cell_type": "markdown",
   "metadata": {},
   "source": [
    "#### lxml \n",
    "lxml ist eine Funktionsreiche und einfach zu bedienende Bibliothek zur Verarbeitung von XML und HTML in Python.\n",
    "\n",
    "https://lxml.de/"
   ]
  },
  {
   "cell_type": "code",
   "execution_count": 6,
   "metadata": {},
   "outputs": [
    {
     "name": "stdout",
     "output_type": "stream",
     "text": [
      "Collecting lxml\n",
      "  Downloading lxml-4.5.2-cp38-cp38-win_amd64.whl (3.5 MB)\n",
      "Installing collected packages: lxml\n",
      "Successfully installed lxml-4.5.2\n",
      "Note: you may need to restart the kernel to use updated packages.\n"
     ]
    }
   ],
   "source": [
    "%pip install lxml"
   ]
  },
  {
   "cell_type": "markdown",
   "metadata": {},
   "source": [
    "#### sqlalchemy\n",
    "SQLAlchemy ist das Python SQL-Toolkit und Object Relational Mapper, das Anwendungsentwicklern die volle Leistung und Flexibilität von SQL bietet.\n",
    "\n",
    "Es bietet eine vollständige Palette bekannter Persistenzmuster auf Enterprise-Ebene, die für einen effizienten und leistungsstarken Datenbankzugriff ausgelegt sind und in eine einfache und pythonische Domänensprache angepasst sind.\n",
    "\n",
    "https://www.sqlalchemy.org/\n",
    "\n",
    "https://docs.sqlalchemy.org/en/13/\n"
   ]
  },
  {
   "cell_type": "code",
   "execution_count": 7,
   "metadata": {},
   "outputs": [
    {
     "name": "stdout",
     "output_type": "stream",
     "text": [
      "Collecting sqlalchemy\n",
      "  Downloading SQLAlchemy-1.3.19-cp38-cp38-win_amd64.whl (1.2 MB)\n",
      "Installing collected packages: sqlalchemy\n",
      "Successfully installed sqlalchemy-1.3.19\n",
      "Note: you may need to restart the kernel to use updated packages.\n"
     ]
    }
   ],
   "source": [
    "%pip install sqlalchemy"
   ]
  },
  {
   "cell_type": "markdown",
   "metadata": {},
   "source": [
    "### Kapitel: Python für Data Visualization "
   ]
  },
  {
   "cell_type": "markdown",
   "metadata": {},
   "source": [
    "#### Matplotlib\n",
    "Matplotlib ist quasi der Großvater der Daten Visualisierung mit Python. Es wurde von John Hunter geschaffen und sollte dazu dienen, die Möglichkeiten, die MatLab (eine weitere Programmiersprache) zur Visualisierung bietet, in Python nachzubilden. Wenn du MatLab kennst, dann wird dir Matplotlib vertraut vorkommen.\n",
    "\n",
    "Es ist eine exzellente 2D und 3D Grafik Library um wissenschaftliche Diagramme zu erzeugen.\n",
    "\n",
    "Einige der größten Vorteile von Matplotlib sind:\n",
    "\n",
    "* Generell ist es einfach mit simplen Plots loszulegen\n",
    "* Es werden eigene Labels und Texte unterstützt\n",
    "* Gute Kontrolle über jedes einzelne Element in einem Diagram\n",
    "* Output in hoher Qualität in viele Formate\n",
    "* Insgesamt sehr anpassbar\n",
    "\n",
    "Matplotlib erlaubt es uns wiederherstellbare Graphen durch Programmieren zu erstellen.\n",
    "\n",
    "[http://matplotlib.org/](http://matplotlib.org/)"
   ]
  },
  {
   "cell_type": "code",
   "execution_count": 8,
   "metadata": {},
   "outputs": [
    {
     "name": "stdout",
     "output_type": "stream",
     "text": [
      "Requirement already satisfied: matplotlib in z:\\visualstudio-lib-tools\\anaconda3_64\\envs\\migrationnlp\\lib\\site-packages (3.3.2)\n",
      "Requirement already satisfied: pillow>=6.2.0 in z:\\visualstudio-lib-tools\\anaconda3_64\\envs\\migrationnlp\\lib\\site-packages (from matplotlib) (7.2.0)\n",
      "Requirement already satisfied: python-dateutil>=2.1 in z:\\visualstudio-lib-tools\\anaconda3_64\\envs\\migrationnlp\\lib\\site-packages (from matplotlib) (2.8.1)\n",
      "Requirement already satisfied: numpy>=1.15 in z:\\visualstudio-lib-tools\\anaconda3_64\\envs\\migrationnlp\\lib\\site-packages (from matplotlib) (1.18.5)\n",
      "Requirement already satisfied: certifi>=2020.06.20 in z:\\visualstudio-lib-tools\\anaconda3_64\\envs\\migrationnlp\\lib\\site-packages (from matplotlib) (2020.6.20)\n",
      "Requirement already satisfied: cycler>=0.10 in z:\\visualstudio-lib-tools\\anaconda3_64\\envs\\migrationnlp\\lib\\site-packages (from matplotlib) (0.10.0)\n",
      "Requirement already satisfied: kiwisolver>=1.0.1 in z:\\visualstudio-lib-tools\\anaconda3_64\\envs\\migrationnlp\\lib\\site-packages (from matplotlib) (1.2.0)\n",
      "Requirement already satisfied: pyparsing!=2.0.4,!=2.1.2,!=2.1.6,>=2.0.3 in z:\\visualstudio-lib-tools\\anaconda3_64\\envs\\migrationnlp\\lib\\site-packages (from matplotlib) (2.4.7)\n",
      "Requirement already satisfied: six>=1.5 in z:\\visualstudio-lib-tools\\anaconda3_64\\envs\\migrationnlp\\lib\\site-packages (from python-dateutil>=2.1->matplotlib) (1.15.0)\n",
      "Note: you may need to restart the kernel to use updated packages.\n"
     ]
    }
   ],
   "source": [
    "%pip install matplotlib"
   ]
  },
  {
   "cell_type": "markdown",
   "metadata": {},
   "source": [
    "#### Seaborn\n",
    "Seaborn ist eine Python-Datenvisualisierungsbibliothek auf Basis von matplotlib. Sie bietet eine High-Level-Schnittstelle für die Erstellung anschaulicher und aussagekräftiger Statistikgrafiken.\n",
    "\n",
    "https://seaborn.pydata.org/"
   ]
  },
  {
   "cell_type": "code",
   "execution_count": 9,
   "metadata": {},
   "outputs": [
    {
     "name": "stdout",
     "output_type": "stream",
     "text": [
      "Collecting seabornNote: you may need to restart the kernel to use updated packages.\n",
      "  Downloading seaborn-0.11.0-py3-none-any.whl (283 kB)\n",
      "Requirement already satisfied: pandas>=0.23 in z:\\visualstudio-lib-tools\\anaconda3_64\\envs\\migrationnlp\\lib\\site-packages (from seaborn) (1.1.3)\n",
      "Requirement already satisfied: matplotlib>=2.2 in z:\\visualstudio-lib-tools\\anaconda3_64\\envs\\migrationnlp\\lib\\site-packages (from seaborn) (3.3.2)\n",
      "Requirement already satisfied: scipy>=1.0 in z:\\visualstudio-lib-tools\\anaconda3_64\\envs\\migrationnlp\\lib\\site-packages (from seaborn) (1.5.2)\n",
      "Requirement already satisfied: numpy>=1.15 in z:\\visualstudio-lib-tools\\anaconda3_64\\envs\\migrationnlp\\lib\\site-packages (from seaborn) (1.18.5)\n",
      "Requirement already satisfied: pytz>=2017.2 in z:\\visualstudio-lib-tools\\anaconda3_64\\envs\\migrationnlp\\lib\\site-packages (from pandas>=0.23->seaborn) (2020.1)\n",
      "\n",
      "Requirement already satisfied: python-dateutil>=2.7.3 in z:\\visualstudio-lib-tools\\anaconda3_64\\envs\\migrationnlp\\lib\\site-packages (from pandas>=0.23->seaborn) (2.8.1)\n",
      "Requirement already satisfied: kiwisolver>=1.0.1 in z:\\visualstudio-lib-tools\\anaconda3_64\\envs\\migrationnlp\\lib\\site-packages (from matplotlib>=2.2->seaborn) (1.2.0)\n",
      "Requirement already satisfied: certifi>=2020.06.20 in z:\\visualstudio-lib-tools\\anaconda3_64\\envs\\migrationnlp\\lib\\site-packages (from matplotlib>=2.2->seaborn) (2020.6.20)\n",
      "Requirement already satisfied: cycler>=0.10 in z:\\visualstudio-lib-tools\\anaconda3_64\\envs\\migrationnlp\\lib\\site-packages (from matplotlib>=2.2->seaborn) (0.10.0)\n",
      "Requirement already satisfied: pyparsing!=2.0.4,!=2.1.2,!=2.1.6,>=2.0.3 in z:\\visualstudio-lib-tools\\anaconda3_64\\envs\\migrationnlp\\lib\\site-packages (from matplotlib>=2.2->seaborn) (2.4.7)\n",
      "Requirement already satisfied: pillow>=6.2.0 in z:\\visualstudio-lib-tools\\anaconda3_64\\envs\\migrationnlp\\lib\\site-packages (from matplotlib>=2.2->seaborn) (7.2.0)\n",
      "Requirement already satisfied: six>=1.5 in z:\\visualstudio-lib-tools\\anaconda3_64\\envs\\migrationnlp\\lib\\site-packages (from python-dateutil>=2.7.3->pandas>=0.23->seaborn) (1.15.0)\n",
      "Installing collected packages: seaborn\n",
      "Successfully installed seaborn-0.11.0\n"
     ]
    }
   ],
   "source": [
    "%pip install seaborn"
   ]
  },
  {
   "cell_type": "markdown",
   "metadata": {},
   "source": [
    "#### plotly\n",
    "\n",
    "*Plotly* ist eine Library die es uns erlaubt interaktive Plots zu erstellen, die wir in Dashboards oder Webseiten verwenden können. Dazu können sie als HTML-Datei oder statisches Bild gespeichert werden.\n",
    "\n",
    "https://plot.ly/"
   ]
  },
  {
   "cell_type": "code",
   "execution_count": 10,
   "metadata": {},
   "outputs": [
    {
     "name": "stdout",
     "output_type": "stream",
     "text": [
      "Collecting chart-studio\n",
      "  Using cached chart_studio-1.1.0-py3-none-any.whl (64 kB)\n",
      "Processing c:\\users\\-t-\\appdata\\local\\pip\\cache\\wheels\\c4\\a7\\48\\0a434133f6d56e878ca511c0e6c38326907c0792f67b476e56\\retrying-1.3.3-py3-none-any.whl\n",
      "Requirement already satisfied: six in z:\\visualstudio-lib-tools\\anaconda3_64\\envs\\migrationnlp\\lib\\site-packages (from chart-studio) (1.15.0)\n",
      "Requirement already satisfied: requests in z:\\visualstudio-lib-tools\\anaconda3_64\\envs\\migrationnlp\\lib\\site-packages (from chart-studio) (2.24.0)\n",
      "Collecting plotly\n",
      "  Downloading plotly-4.11.0-py2.py3-none-any.whl (13.1 MB)\n",
      "Note: you may need to restart the kernel to use updated packages.Requirement already satisfied: chardet<4,>=3.0.2 in z:\\visualstudio-lib-tools\\anaconda3_64\\envs\\migrationnlp\\lib\\site-packages (from requests->chart-studio) (3.0.4)\n",
      "Requirement already satisfied: idna<3,>=2.5 in z:\\visualstudio-lib-tools\\anaconda3_64\\envs\\migrationnlp\\lib\\site-packages (from requests->chart-studio) (2.10)\n",
      "Requirement already satisfied: urllib3!=1.25.0,!=1.25.1,<1.26,>=1.21.1 in z:\\visualstudio-lib-tools\\anaconda3_64\\envs\\migrationnlp\\lib\\site-packages (from requests->chart-studio) (1.25.10)\n",
      "Requirement already satisfied: certifi>=2017.4.17 in z:\\visualstudio-lib-tools\\anaconda3_64\\envs\\migrationnlp\\lib\\site-packages (from requests->chart-studio) (2020.6.20)\n",
      "\n",
      "Installing collected packages: retrying, plotly, chart-studio\n",
      "Successfully installed chart-studio-1.1.0 plotly-4.11.0 retrying-1.3.3\n"
     ]
    }
   ],
   "source": [
    "%pip install chart-studio"
   ]
  },
  {
   "cell_type": "code",
   "execution_count": 11,
   "metadata": {},
   "outputs": [
    {
     "name": "stdout",
     "output_type": "stream",
     "text": [
      "Requirement already satisfied: plotly in z:\\visualstudio-lib-tools\\anaconda3_64\\envs\\migrationnlp\\lib\\site-packages (4.11.0)\n",
      "Requirement already satisfied: six in z:\\visualstudio-lib-tools\\anaconda3_64\\envs\\migrationnlp\\lib\\site-packages (from plotly) (1.15.0)\n",
      "Requirement already satisfied: retrying>=1.3.3 in z:\\visualstudio-lib-tools\\anaconda3_64\\envs\\migrationnlp\\lib\\site-packages (from plotly) (1.3.3)\n",
      "Note: you may need to restart the kernel to use updated packages.\n"
     ]
    }
   ],
   "source": [
    "%pip install plotly"
   ]
  },
  {
   "cell_type": "markdown",
   "metadata": {},
   "source": [
    "#### cufflinks\n",
    "\n",
    "Cufflinks verbindet Plotly direkt mit Pandas-Datenrahmen.\n",
    "\n",
    "https://plot.ly/python/v3/ipython-notebooks/cufflinks/"
   ]
  },
  {
   "cell_type": "code",
   "execution_count": 12,
   "metadata": {},
   "outputs": [
    {
     "name": "stdout",
     "output_type": "stream",
     "text": [
      "Processing c:\\users\\-t-\\appdata\\local\\pip\\cache\\wheels\\6b\\76\\62\\6da97734911ffcbdd559fd1a3f28526321f0ae699182a23866\\cufflinks-0.17.3-py3-none-any.whl\n",
      "Requirement already satisfied: pandas>=0.19.2 in z:\\visualstudio-lib-tools\\anaconda3_64\\envs\\migrationnlp\\lib\\site-packages (from cufflinks) (1.1.3)\n",
      "Requirement already satisfied: six>=1.9.0 in z:\\visualstudio-lib-tools\\anaconda3_64\\envs\\migrationnlp\\lib\\site-packages (from cufflinks) (1.15.0)\n",
      "Requirement already satisfied: plotly>=4.1.1 in z:\\visualstudio-lib-tools\\anaconda3_64\\envs\\migrationnlp\\lib\\site-packages (from cufflinks) (4.11.0)\n",
      "Collecting ipywidgets>=7.0.0\n",
      "  Using cached ipywidgets-7.5.1-py2.py3-none-any.whl (121 kB)\n",
      "Collecting colorlover>=0.2.1\n",
      "  Using cached colorlover-0.3.0-py3-none-any.whl (8.9 kB)\n",
      "Requirement already satisfied: setuptools>=34.4.1 in z:\\visualstudio-lib-tools\\anaconda3_64\\envs\\migrationnlp\\lib\\site-packages (from cufflinks) (50.3.0.post20201006)\n",
      "Requirement already satisfied: ipython>=5.3.0 in z:\\visualstudio-lib-tools\\anaconda3_64\\envs\\migrationnlp\\lib\\site-packages (from cufflinks) (7.18.1)\n",
      "Requirement already satisfied: numpy>=1.9.2 in z:\\visualstudio-lib-tools\\anaconda3_64\\envs\\migrationnlp\\lib\\site-packages (from cufflinks) (1.18.5)\n",
      "Requirement already satisfied: python-dateutil>=2.7.3 in z:\\visualstudio-lib-tools\\anaconda3_64\\envs\\migrationnlp\\lib\\site-packages (from pandas>=0.19.2->cufflinks) (2.8.1)\n",
      "Requirement already satisfied: pytz>=2017.2 in z:\\visualstudio-lib-tools\\anaconda3_64\\envs\\migrationnlp\\lib\\site-packages (from pandas>=0.19.2->cufflinks) (2020.1)\n",
      "Requirement already satisfied: retrying>=1.3.3 in z:\\visualstudio-lib-tools\\anaconda3_64\\envs\\migrationnlp\\lib\\site-packages (from plotly>=4.1.1->cufflinks) (1.3.3)\n",
      "Collecting widgetsnbextension~=3.5.0\n",
      "  Using cached widgetsnbextension-3.5.1-py2.py3-none-any.whl (2.2 MB)\n",
      "Requirement already satisfied: traitlets>=4.3.1 in z:\\visualstudio-lib-tools\\anaconda3_64\\envs\\migrationnlp\\lib\\site-packages (from ipywidgets>=7.0.0->cufflinks) (5.0.4)\n",
      "Requirement already satisfied: nbformat>=4.2.0 in z:\\visualstudio-lib-tools\\anaconda3_64\\envs\\migrationnlp\\lib\\site-packages (from ipywidgets>=7.0.0->cufflinks) (5.0.7)\n",
      "Requirement already satisfied: ipykernel>=4.5.1 in z:\\visualstudio-lib-tools\\anaconda3_64\\envs\\migrationnlp\\lib\\site-packages (from ipywidgets>=7.0.0->cufflinks) (5.3.4)\n",
      "Requirement already satisfied: prompt-toolkit!=3.0.0,!=3.0.1,<3.1.0,>=2.0.0 in z:\\visualstudio-lib-tools\\anaconda3_64\\envs\\migrationnlp\\lib\\site-packages (from ipython>=5.3.0->cufflinks) (3.0.7)\n",
      "Requirement already satisfied: pickleshare in z:\\visualstudio-lib-tools\\anaconda3_64\\envs\\migrationnlp\\lib\\site-packages (from ipython>=5.3.0->cufflinks) (0.7.5)\n",
      "Requirement already satisfied: colorama; sys_platform == \"win32\" in z:\\visualstudio-lib-tools\\anaconda3_64\\envs\\migrationnlp\\lib\\site-packages (from ipython>=5.3.0->cufflinks) (0.4.3)\n",
      "Requirement already satisfied: pygments in z:\\visualstudio-lib-tools\\anaconda3_64\\envs\\migrationnlp\\lib\\site-packages (from ipython>=5.3.0->cufflinks) (2.7.1)\n",
      "Requirement already satisfied: jedi>=0.10 in z:\\visualstudio-lib-tools\\anaconda3_64\\envs\\migrationnlp\\lib\\site-packages (from ipython>=5.3.0->cufflinks) (0.17.2)\n",
      "Requirement already satisfied: backcall in z:\\visualstudio-lib-tools\\anaconda3_64\\envs\\migrationnlp\\lib\\site-packages (from ipython>=5.3.0->cufflinks) (0.2.0)\n",
      "Requirement already satisfied: decorator in z:\\visualstudio-lib-tools\\anaconda3_64\\envs\\migrationnlp\\lib\\site-packages (from ipython>=5.3.0->cufflinks) (4.4.2)\n",
      "Requirement already satisfied: notebook>=4.4.1 in z:\\visualstudio-lib-tools\\anaconda3_64\\envs\\migrationnlp\\lib\\site-packages (from widgetsnbextension~=3.5.0->ipywidgets>=7.0.0->cufflinks) (6.1.4)\n",
      "Requirement already satisfied: ipython-genutils in z:\\visualstudio-lib-tools\\anaconda3_64\\envs\\migrationnlp\\lib\\site-packages (from traitlets>=4.3.1->ipywidgets>=7.0.0->cufflinks) (0.2.0)\n",
      "Requirement already satisfied: jsonschema!=2.5.0,>=2.4 in z:\\visualstudio-lib-tools\\anaconda3_64\\envs\\migrationnlp\\lib\\site-packages (from nbformat>=4.2.0->ipywidgets>=7.0.0->cufflinks) (3.2.0)\n",
      "Requirement already satisfied: jupyter-core in z:\\visualstudio-lib-tools\\anaconda3_64\\envs\\migrationnlp\\lib\\site-packages (from nbformat>=4.2.0->ipywidgets>=7.0.0->cufflinks) (4.6.3)\n",
      "Requirement already satisfied: jupyter-client in z:\\visualstudio-lib-tools\\anaconda3_64\\envs\\migrationnlp\\lib\\site-packages (from ipykernel>=4.5.1->ipywidgets>=7.0.0->cufflinks) (6.1.7)\n",
      "Requirement already satisfied: tornado>=4.2 in z:\\visualstudio-lib-tools\\anaconda3_64\\envs\\migrationnlp\\lib\\site-packages (from ipykernel>=4.5.1->ipywidgets>=7.0.0->cufflinks) (6.0.4)\n",
      "Requirement already satisfied: wcwidth in z:\\visualstudio-lib-tools\\anaconda3_64\\envs\\migrationnlp\\lib\\site-packages (from prompt-toolkit!=3.0.0,!=3.0.1,<3.1.0,>=2.0.0->ipython>=5.3.0->cufflinks) (0.2.5)\n",
      "Requirement already satisfied: parso<0.8.0,>=0.7.0 in z:\\visualstudio-lib-tools\\anaconda3_64\\envs\\migrationnlp\\lib\\site-packages (from jedi>=0.10->ipython>=5.3.0->cufflinks) (0.7.0)\n",
      "Requirement already satisfied: jinja2 in z:\\visualstudio-lib-tools\\anaconda3_64\\envs\\migrationnlp\\lib\\site-packages (from notebook>=4.4.1->widgetsnbextension~=3.5.0->ipywidgets>=7.0.0->cufflinks) (2.11.2)\n",
      "Requirement already satisfied: nbconvert in z:\\visualstudio-lib-tools\\anaconda3_64\\envs\\migrationnlp\\lib\\site-packages (from notebook>=4.4.1->widgetsnbextension~=3.5.0->ipywidgets>=7.0.0->cufflinks) (6.0.7)\n",
      "Requirement already satisfied: pyzmq>=17 in z:\\visualstudio-lib-tools\\anaconda3_64\\envs\\migrationnlp\\lib\\site-packages (from notebook>=4.4.1->widgetsnbextension~=3.5.0->ipywidgets>=7.0.0->cufflinks) (19.0.2)\n",
      "Requirement already satisfied: terminado>=0.8.3 in z:\\visualstudio-lib-tools\\anaconda3_64\\envs\\migrationnlp\\lib\\site-packages (from notebook>=4.4.1->widgetsnbextension~=3.5.0->ipywidgets>=7.0.0->cufflinks) (0.8.3)\n",
      "Requirement already satisfied: prometheus-client in z:\\visualstudio-lib-tools\\anaconda3_64\\envs\\migrationnlp\\lib\\site-packages (from notebook>=4.4.1->widgetsnbextension~=3.5.0->ipywidgets>=7.0.0->cufflinks) (0.8.0)\n",
      "Requirement already satisfied: Send2Trash in z:\\visualstudio-lib-tools\\anaconda3_64\\envs\\migrationnlp\\lib\\site-packages (from notebook>=4.4.1->widgetsnbextension~=3.5.0->ipywidgets>=7.0.0->cufflinks) (1.5.0)\n",
      "Requirement already satisfied: argon2-cffi in z:\\visualstudio-lib-tools\\anaconda3_64\\envs\\migrationnlp\\lib\\site-packages (from notebook>=4.4.1->widgetsnbextension~=3.5.0->ipywidgets>=7.0.0->cufflinks) (20.1.0)\n",
      "Requirement already satisfied: pyrsistent>=0.14.0 in z:\\visualstudio-lib-tools\\anaconda3_64\\envs\\migrationnlp\\lib\\site-packages (from jsonschema!=2.5.0,>=2.4->nbformat>=4.2.0->ipywidgets>=7.0.0->cufflinks) (0.17.3)\n",
      "Requirement already satisfied: attrs>=17.4.0 in z:\\visualstudio-lib-tools\\anaconda3_64\\envs\\migrationnlp\\lib\\site-packages (from jsonschema!=2.5.0,>=2.4->nbformat>=4.2.0->ipywidgets>=7.0.0->cufflinks) (20.2.0)\n",
      "Requirement already satisfied: pywin32>=1.0; sys_platform == \"win32\" in z:\\visualstudio-lib-tools\\anaconda3_64\\envs\\migrationnlp\\lib\\site-packages (from jupyter-core->nbformat>=4.2.0->ipywidgets>=7.0.0->cufflinks) (227)\n",
      "Requirement already satisfied: MarkupSafe>=0.23 in z:\\visualstudio-lib-tools\\anaconda3_64\\envs\\migrationnlp\\lib\\site-packages (from jinja2->notebook>=4.4.1->widgetsnbextension~=3.5.0->ipywidgets>=7.0.0->cufflinks) (1.1.1)\n",
      "Requirement already satisfied: testpath in z:\\visualstudio-lib-tools\\anaconda3_64\\envs\\migrationnlp\\lib\\site-packages (from nbconvert->notebook>=4.4.1->widgetsnbextension~=3.5.0->ipywidgets>=7.0.0->cufflinks) (0.4.4)\n",
      "Requirement already satisfied: nbclient<0.6.0,>=0.5.0 in z:\\visualstudio-lib-tools\\anaconda3_64\\envs\\migrationnlp\\lib\\site-packages (from nbconvert->notebook>=4.4.1->widgetsnbextension~=3.5.0->ipywidgets>=7.0.0->cufflinks) (0.5.0)\n"
     ]
    }
   ],
   "source": [
    "# Install a pip package in the current Jupyter kernel\n",
    "import sys\n",
    "!{sys.executable} -m pip install cufflinks"
   ]
  },
  {
   "cell_type": "markdown",
   "metadata": {},
   "source": [
    "### Kaptiel: Daten Meilenstein Projekte"
   ]
  },
  {
   "cell_type": "markdown",
   "metadata": {},
   "source": [
    "#### pandas_datareader\n",
    "\n",
    "Eine Python Hilfs-Bilbilothek um verschiedene Börsenwerte aus verschiedene Börsen-APIs aufzurufen.\n",
    "\n",
    "https://pandas-datareader.readthedocs.io/en/latest/remote_data.html"
   ]
  },
  {
   "cell_type": "code",
   "execution_count": 13,
   "metadata": {},
   "outputs": [
    {
     "name": "stdout",
     "output_type": "stream",
     "text": [
      "Requirement already satisfied: mistune<2,>=0.8.1 in z:\\visualstudio-lib-tools\\anaconda3_64\\envs\\migrationnlp\\lib\\site-packages (from nbconvert->notebook>=4.4.1->widgetsnbextension~=3.5.0->ipywidgets>=7.0.0->cufflinks) (0.8.4)\n",
      "Requirement already satisfied: bleach in z:\\visualstudio-lib-tools\\anaconda3_64\\envs\\migrationnlp\\lib\\site-packages (from nbconvert->notebook>=4.4.1->widgetsnbextension~=3.5.0->ipywidgets>=7.0.0->cufflinks) (3.2.1)\n",
      "Requirement already satisfied: entrypoints>=0.2.2 in z:\\visualstudio-lib-tools\\anaconda3_64\\envs\\migrationnlp\\lib\\site-packages (from nbconvert->notebook>=4.4.1->widgetsnbextension~=3.5.0->ipywidgets>=7.0.0->cufflinks) (0.3)\n",
      "Requirement already satisfied: pandocfilters>=1.4.1 in z:\\visualstudio-lib-tools\\anaconda3_64\\envs\\migrationnlp\\lib\\site-packages (from nbconvert->notebook>=4.4.1->widgetsnbextension~=3.5.0->ipywidgets>=7.0.0->cufflinks) (1.4.2)\n",
      "Requirement already satisfied: defusedxml in z:\\visualstudio-lib-tools\\anaconda3_64\\envs\\migrationnlp\\lib\\site-packages (from nbconvert->notebook>=4.4.1->widgetsnbextension~=3.5.0->ipywidgets>=7.0.0->cufflinks) (0.6.0)\n",
      "Requirement already satisfied: jupyterlab-pygments in z:\\visualstudio-lib-tools\\anaconda3_64\\envs\\migrationnlp\\lib\\site-packages (from nbconvert->notebook>=4.4.1->widgetsnbextension~=3.5.0->ipywidgets>=7.0.0->cufflinks) (0.1.2)\n",
      "Requirement already satisfied: cffi>=1.0.0 in z:\\visualstudio-lib-tools\\anaconda3_64\\envs\\migrationnlp\\lib\\site-packages (from argon2-cffi->notebook>=4.4.1->widgetsnbextension~=3.5.0->ipywidgets>=7.0.0->cufflinks) (1.14.3)\n",
      "Requirement already satisfied: nest-asyncio in z:\\visualstudio-lib-tools\\anaconda3_64\\envs\\migrationnlp\\lib\\site-packages (from nbclient<0.6.0,>=0.5.0->nbconvert->notebook>=4.4.1->widgetsnbextension~=3.5.0->ipywidgets>=7.0.0->cufflinks) (1.4.1)\n",
      "Requirement already satisfied: async-generator in z:\\visualstudio-lib-tools\\anaconda3_64\\envs\\migrationnlp\\lib\\site-packages (from nbclient<0.6.0,>=0.5.0->nbconvert->notebook>=4.4.1->widgetsnbextension~=3.5.0->ipywidgets>=7.0.0->cufflinks) (1.10)\n",
      "Requirement already satisfied: packaging in z:\\visualstudio-lib-tools\\anaconda3_64\\envs\\migrationnlp\\lib\\site-packages (from bleach->nbconvert->notebook>=4.4.1->widgetsnbextension~=3.5.0->ipywidgets>=7.0.0->cufflinks) (20.4)\n",
      "Requirement already satisfied: webencodings in z:\\visualstudio-lib-tools\\anaconda3_64\\envs\\migrationnlp\\lib\\site-packages (from bleach->nbconvert->notebook>=4.4.1->widgetsnbextension~=3.5.0->ipywidgets>=7.0.0->cufflinks) (0.5.1)\n",
      "Requirement already satisfied: pycparser in z:\\visualstudio-lib-tools\\anaconda3_64\\envs\\migrationnlp\\lib\\site-packages (from cffi>=1.0.0->argon2-cffi->notebook>=4.4.1->widgetsnbextension~=3.5.0->ipywidgets>=7.0.0->cufflinks) (2.20)\n",
      "Requirement already satisfied: pyparsing>=2.0.2 in z:\\visualstudio-lib-tools\\anaconda3_64\\envs\\migrationnlp\\lib\\site-packages (from packaging->bleach->nbconvert->notebook>=4.4.1->widgetsnbextension~=3.5.0->ipywidgets>=7.0.0->cufflinks) (2.4.7)\n",
      "Installing collected packages: widgetsnbextension, ipywidgets, colorlover, cufflinks\n",
      "Successfully installed colorlover-0.3.0 cufflinks-0.17.3 ipywidgets-7.5.1 widgetsnbextension-3.5.1\n",
      "Collecting pandas-datareader\n",
      "  Downloading pandas_datareader-0.9.0-py3-none-any.whl (107 kB)\n",
      "Requirement already satisfied: pandas>=0.23 in z:\\visualstudio-lib-tools\\anaconda3_64\\envs\\migrationnlp\\lib\\site-packages (from pandas-datareader) (1.1.3)\n",
      "Requirement already satisfied: lxml in z:\\visualstudio-lib-tools\\anaconda3_64\\envs\\migrationnlp\\lib\\site-packages (from pandas-datareader) (4.5.2)\n",
      "Requirement already satisfied: requests>=2.19.0 in z:\\visualstudio-lib-tools\\anaconda3_64\\envs\\migrationnlp\\lib\\site-packages (from pandas-datareader) (2.24.0)\n",
      "Requirement already satisfied: python-dateutil>=2.7.3 in z:\\visualstudio-lib-tools\\anaconda3_64\\envs\\migrationnlp\\lib\\site-packages (from pandas>=0.23->pandas-datareader) (2.8.1)\n",
      "Requirement already satisfied: numpy>=1.15.4 in z:\\visualstudio-lib-tools\\anaconda3_64\\envs\\migrationnlp\\lib\\site-packages (from pandas>=0.23->pandas-datareader) (1.18.5)\n",
      "Requirement already satisfied: pytz>=2017.2 in z:\\visualstudio-lib-tools\\anaconda3_64\\envs\\migrationnlp\\lib\\site-packages (from pandas>=0.23->pandas-datareader) (2020.1)\n",
      "Requirement already satisfied: idna<3,>=2.5 in z:\\visualstudio-lib-tools\\anaconda3_64\\envs\\migrationnlp\\lib\\site-packages (from requests>=2.19.0->pandas-datareader) (2.10)\n",
      "Requirement already satisfied: certifi>=2017.4.17 in z:\\visualstudio-lib-tools\\anaconda3_64\\envs\\migrationnlp\\lib\\site-packages (from requests>=2.19.0->pandas-datareader) (2020.6.20)\n",
      "Requirement already satisfied: urllib3!=1.25.0,!=1.25.1,<1.26,>=1.21.1 in z:\\visualstudio-lib-tools\\anaconda3_64\\envs\\migrationnlp\\lib\\site-packages (from requests>=2.19.0->pandas-datareader) (1.25.10)\n",
      "Requirement already satisfied: chardet<4,>=3.0.2 in z:\\visualstudio-lib-tools\\anaconda3_64\\envs\\migrationnlp\\lib\\site-packages (from requests>=2.19.0->pandas-datareader) (3.0.4)Note: you may need to restart the kernel to use updated packages.\n",
      "Requirement already satisfied: six>=1.5 in z:\\visualstudio-lib-tools\\anaconda3_64\\envs\\migrationnlp\\lib\\site-packages (from python-dateutil>=2.7.3->pandas>=0.23->pandas-datareader) (1.15.0)\n",
      "\n",
      "Installing collected packages: pandas-datareader\n",
      "Successfully installed pandas-datareader-0.9.0\n"
     ]
    }
   ],
   "source": [
    "%pip install pandas-datareader"
   ]
  },
  {
   "cell_type": "markdown",
   "metadata": {},
   "source": [
    "### Kapitel: Machine Learning"
   ]
  },
  {
   "cell_type": "markdown",
   "metadata": {},
   "source": [
    "#### sklearn\n",
    "* Einfache und effiziente Tools für Data Mining und Datenanalyse\n",
    "* Für jedermann zugänglich und in verschiedenen Kontexten wiederverwendbar.\n",
    "* Aufbauend auf NumPy, SciPy und matplotlib\n",
    "* Open Source, kommerziell nutzbar - BSD-Lizenz\n",
    "\n",
    "https://scikit-learn.org/stable/"
   ]
  },
  {
   "cell_type": "code",
   "execution_count": 14,
   "metadata": {},
   "outputs": [
    {
     "name": "stdout",
     "output_type": "stream",
     "text": [
      "Requirement already satisfied: scikit-learn in z:\\visualstudio-lib-tools\\anaconda3_64\\envs\\migrationnlp\\lib\\site-packages (0.23.2)\n",
      "Requirement already satisfied: scipy>=0.19.1 in z:\\visualstudio-lib-tools\\anaconda3_64\\envs\\migrationnlp\\lib\\site-packages (from scikit-learn) (1.5.2)\n",
      "Requirement already satisfied: threadpoolctl>=2.0.0 in z:\\visualstudio-lib-tools\\anaconda3_64\\envs\\migrationnlp\\lib\\site-packages (from scikit-learn) (2.1.0)\n",
      "Requirement already satisfied: numpy>=1.13.3 in z:\\visualstudio-lib-tools\\anaconda3_64\\envs\\migrationnlp\\lib\\site-packages (from scikit-learn) (1.18.5)\n",
      "Requirement already satisfied: joblib>=0.11 in z:\\visualstudio-lib-tools\\anaconda3_64\\envs\\migrationnlp\\lib\\site-packages (from scikit-learn) (0.17.0)\n",
      "Note: you may need to restart the kernel to use updated packages.\n"
     ]
    }
   ],
   "source": [
    "%pip install scikit-learn"
   ]
  },
  {
   "cell_type": "markdown",
   "metadata": {},
   "source": [
    "#### pydot\n",
    "* ist eine Schnittstelle zu Graphviz\n",
    "* kann in die von GraphViz verwendete DOT-Sprache analysiert und ausgegeben werden,\n",
    "* ist in reinem Python geschrieben\n",
    "\n",
    "https://pypi.org/project/pydot/"
   ]
  },
  {
   "cell_type": "code",
   "execution_count": 15,
   "metadata": {},
   "outputs": [
    {
     "name": "stdout",
     "output_type": "stream",
     "text": [
      "Collecting pydotNote: you may need to restart the kernel to use updated packages.\n",
      "  Using cached pydot-1.4.1-py2.py3-none-any.whl (19 kB)\n",
      "Requirement already satisfied: pyparsing>=2.1.4 in z:\\visualstudio-lib-tools\\anaconda3_64\\envs\\migrationnlp\\lib\\site-packages (from pydot) (2.4.7)\n",
      "Installing collected packages: pydot\n",
      "Successfully installed pydot-1.4.1\n",
      "\n"
     ]
    }
   ],
   "source": [
    "%pip install pydot"
   ]
  },
  {
   "cell_type": "markdown",
   "metadata": {},
   "source": [
    "#### graphviz\n",
    "Graphviz ist eine Open-Source-Software zur Visualisierung von Graphen. Die Graphenvisualisierung ist eine Möglichkeit, strukturelle Informationen als Diagramme von abstrakten Graphen und Netzwerken darzustellen. \n",
    "\n",
    "https://www.graphviz.org/"
   ]
  },
  {
   "cell_type": "code",
   "execution_count": 16,
   "metadata": {},
   "outputs": [
    {
     "name": "stdout",
     "output_type": "stream",
     "text": [
      "Collecting graphviz\n",
      "  Downloading graphviz-0.14.2-py2.py3-none-any.whl (18 kB)\n",
      "Installing collected packages: graphviz\n",
      "Successfully installed graphviz-0.14.2\n",
      "Note: you may need to restart the kernel to use updated packages.\n"
     ]
    }
   ],
   "source": [
    "%pip install graphviz"
   ]
  },
  {
   "cell_type": "markdown",
   "metadata": {},
   "source": [
    "## Kapitel: Pyspark und Big Data"
   ]
  },
  {
   "cell_type": "markdown",
   "metadata": {},
   "source": [
    "#### pyspark\n",
    "PySpark ist die Python API für Spark.\n",
    "\n",
    "https://spark.apache.org/docs/latest/api/python/index.html"
   ]
  },
  {
   "cell_type": "code",
   "execution_count": 17,
   "metadata": {},
   "outputs": [
    {
     "name": "stdout",
     "output_type": "stream",
     "text": [
      "Collecting pyspark\n",
      "  Downloading pyspark-3.0.1.tar.gz (204.2 MB)\n",
      "Collecting py4j==0.10.9\n",
      "  Using cached py4j-0.10.9-py2.py3-none-any.whl (198 kB)\n",
      "Building wheels for collected packages: pyspark\n",
      "  Building wheel for pyspark (setup.py): started\n",
      "  Building wheel for pyspark (setup.py): finished with status 'done'\n",
      "  Created wheel for pyspark: filename=pyspark-3.0.1-py2.py3-none-any.whl size=204612247 sha256=5910e5cb7eb485c32f5a8d08e60bbc1bf468836edcbe2b6851c7392463ae4d12\n",
      "  Stored in directory: c:\\users\\-t-\\appdata\\local\\pip\\cache\\wheels\\ea\\21\\84\\970b03913d0d6a96ef51c34c878add0de9e4ecbb7c764ea21f\n",
      "Successfully built pyspark\n",
      "Installing collected packages: py4j, pyspark\n",
      "Successfully installed py4j-0.10.9 pyspark-3.0.1\n",
      "Note: you may need to restart the kernel to use updated packages.\n"
     ]
    }
   ],
   "source": [
    "# Achtung!Die Pyspark Installation dauert Minuten\n",
    "%pip install pyspark"
   ]
  },
  {
   "cell_type": "markdown",
   "metadata": {},
   "source": [
    "## Kapitel: Deep Learning"
   ]
  },
  {
   "cell_type": "markdown",
   "metadata": {},
   "source": [
    "#### Tensorflow\n",
    "TensorFlow ist eine End-to-End-Open-Source-Plattform für maschinelles Lernen. Sie verfügt über ein umfassendes, flexibles Netzwerk von Tools, Bibliotheken und Community-Ressourcen, das es Forschern ermöglicht, den Stand der Technik in ML zu verbessern, und Entwicklern ermöglicht, ML-basierte Anwendungen einfach zu erstellen und bereitzustellen."
   ]
  },
  {
   "cell_type": "code",
   "execution_count": 18,
   "metadata": {},
   "outputs": [
    {
     "name": "stdout",
     "output_type": "stream",
     "text": [
      "Note: you may need to restart the kernel to use updated packages.\n"
     ]
    },
    {
     "name": "stderr",
     "output_type": "stream",
     "text": [
      "ERROR: Could not find a version that satisfies the requirement tensorflow==1.15 (from versions: 2.2.0rc1, 2.2.0rc2, 2.2.0rc3, 2.2.0rc4, 2.2.0, 2.2.1, 2.3.0rc0, 2.3.0rc1, 2.3.0rc2, 2.3.0, 2.3.1)\n",
      "ERROR: No matching distribution found for tensorflow==1.15\n"
     ]
    }
   ],
   "source": [
    "%pip install tensorflow==1.15"
   ]
  },
  {
   "cell_type": "markdown",
   "metadata": {},
   "source": [
    "### Neustarten des Python-Kernels\n",
    "Um alle installieren Packete und Bibliotheken zu verwenden muss der Python-Kernel von Jupyter Notebook neugestartet werden. "
   ]
  },
  {
   "cell_type": "code",
   "execution_count": null,
   "metadata": {},
   "outputs": [
    {
     "data": {
      "text/html": [
       "<script>Jupyter.notebook.kernel.restart()</script>"
      ]
     },
     "metadata": {},
     "output_type": "display_data"
    }
   ],
   "source": [
    "# Diese Zelle starte den Kernel neu\n",
    "from IPython.display import display_html\n",
    "def restartkernel() :\n",
    "    display_html(\"<script>Jupyter.notebook.kernel.restart()</script>\",raw=True)\n",
    "\n",
    "\n",
    "restartkernel()    "
   ]
  }
 ],
 "metadata": {
  "kernelspec": {
   "display_name": "Python 3",
   "language": "python",
   "name": "python3"
  },
  "language_info": {
   "codemirror_mode": {
    "name": "ipython",
    "version": 3
   },
   "file_extension": ".py",
   "mimetype": "text/x-python",
   "name": "python",
   "nbconvert_exporter": "python",
   "pygments_lexer": "ipython3",
   "version": "3.8.5"
  }
 },
 "nbformat": 4,
 "nbformat_minor": 2
}
